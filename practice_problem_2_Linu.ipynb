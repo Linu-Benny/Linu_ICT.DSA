{
  "nbformat": 4,
  "nbformat_minor": 0,
  "metadata": {
    "colab": {
      "provenance": []
    },
    "kernelspec": {
      "name": "python3",
      "display_name": "Python 3"
    },
    "language_info": {
      "name": "python"
    }
  },
  "cells": [
    {
      "cell_type": "markdown",
      "source": [
        "\n",
        "\n",
        "1. Write a Python program to accept a string value from the user and display\n",
        "the count of each character in that string.\n",
        "\n",
        " Sample input: Enter a string\n",
        " value: assembly\n",
        "\n",
        " Sample output: a=1, s=2, e=1, m=1, b=1, l=1, y=1\n",
        "\n",
        "\n",
        "\n",
        "\n",
        "\n",
        "\n",
        "---\n",
        "\n",
        "\n",
        "\n",
        "\n",
        "\n",
        "\n",
        "\n",
        "  "
      ],
      "metadata": {
        "id": "NigF6A-CHJ2K"
      }
    },
    {
      "cell_type": "code",
      "source": [
        "string=input(\"Enter a string value:\")\n",
        "\n",
        "for i in set(string):\n",
        "  print(i,\"=\",string.count(i))\n",
        "\n"
      ],
      "metadata": {
        "colab": {
          "base_uri": "https://localhost:8080/"
        },
        "id": "BlCstB6eHKWF",
        "outputId": "af79e7c2-f380-4c1e-ec54-a19c4d4f02bf"
      },
      "execution_count": 71,
      "outputs": [
        {
          "output_type": "stream",
          "name": "stdout",
          "text": [
            "Enter a string value:assembly\n",
            "e = 1\n",
            "m = 1\n",
            "b = 1\n",
            "y = 1\n",
            "s = 2\n",
            "a = 1\n",
            "l = 1\n"
          ]
        }
      ]
    },
    {
      "cell_type": "markdown",
      "source": [
        "2. . Write a Python function to find the maximum of three numbers Sample\n",
        "input: 34,12,7 Sample output: 34\n",
        "\n",
        "\n",
        "\n",
        "---\n",
        "\n",
        "\n",
        "\n"
      ],
      "metadata": {
        "id": "9NnMiyKAHKxe"
      }
    },
    {
      "cell_type": "code",
      "source": [
        "num=[34,12,7]\n",
        "\n",
        "print(max(num))\n",
        "\n",
        ""
      ],
      "metadata": {
        "colab": {
          "base_uri": "https://localhost:8080/"
        },
        "id": "Eibrq2KUHLDV",
        "outputId": "6babeeb6-73d9-4c15-e378-4a4798708eb1"
      },
      "execution_count": 5,
      "outputs": [
        {
          "output_type": "stream",
          "name": "stdout",
          "text": [
            "34\n"
          ]
        }
      ]
    },
    {
      "cell_type": "code",
      "source": [
        "###   OR   #####\n",
        "\n",
        "a=int(input(\"Enter the first number:\"))\n",
        "b=int(input(\"Enter the second number:\"))\n",
        "c=int(input(\"Enter the third number:\"))\n",
        "\n",
        "print('\\n', max(a,b,c))"
      ],
      "metadata": {
        "colab": {
          "base_uri": "https://localhost:8080/"
        },
        "id": "iXa-HESvEtch",
        "outputId": "e1a67958-af2d-43c4-a708-0035c2b12531"
      },
      "execution_count": 4,
      "outputs": [
        {
          "output_type": "stream",
          "name": "stdout",
          "text": [
            "Enter the first number:34\n",
            "Enter the second number:77\n",
            "Enter the third number:89\n",
            "\n",
            " 89\n"
          ]
        }
      ]
    },
    {
      "cell_type": "markdown",
      "source": [
        "3. Write a Python function called exponent(base,exp) that returns an\n",
        "integer value of base raises to the power of exp. Sample input: Enter the\n",
        "base: 2 Enter the exponent: 3 Sample output: 8\n",
        "\n",
        "\n",
        "\n",
        "---\n",
        "\n"
      ],
      "metadata": {
        "id": "Js7-wqpvHLV4"
      }
    },
    {
      "cell_type": "code",
      "source": [
        "def exponent(base,exp):\n",
        "  return(base**exp)\n",
        "\n",
        "base=int(input(\"Enter the base:\"))\n",
        "exp=int(input(\"Enter the exponent:\"))\n",
        "\n",
        "print(exponent(base,exp))"
      ],
      "metadata": {
        "colab": {
          "base_uri": "https://localhost:8080/"
        },
        "id": "9yafJ6KcHLnR",
        "outputId": "9b1af979-5558-4287-fec5-7098eaafc03d"
      },
      "execution_count": 6,
      "outputs": [
        {
          "output_type": "stream",
          "name": "stdout",
          "text": [
            "Enter the base:2\n",
            "Enter the exponent:3\n",
            "8\n"
          ]
        }
      ]
    },
    {
      "cell_type": "markdown",
      "source": [
        "4. Write a Python function that takes a positive integer and returns the sum\n",
        "of the cube of all the positive integers smaller than the specified number.\n",
        "Sample input: 4 Sample output: 36."
      ],
      "metadata": {
        "id": "JXOj6UjCHL5P"
      }
    },
    {
      "cell_type": "code",
      "source": [
        "i=int(input(\"enter a positive number:\"))\n",
        "\n",
        "sum_of_cubes=0\n",
        "\n",
        "for numbers in range(i-1,0,-1):\n",
        "  sum_of_cubes += numbers**3\n",
        "\n",
        "print(sum_of_cubes)\n",
        "\n",
        "\n",
        "\n"
      ],
      "metadata": {
        "colab": {
          "base_uri": "https://localhost:8080/"
        },
        "id": "Vi_wRPQQYW2v",
        "outputId": "551a8db1-cf11-49a8-c971-71ab79725574"
      },
      "execution_count": 7,
      "outputs": [
        {
          "output_type": "stream",
          "name": "stdout",
          "text": [
            "enter a positive number:4\n",
            "36\n"
          ]
        }
      ]
    },
    {
      "cell_type": "markdown",
      "source": [
        "5. Write a Python program which iterates from 1 to 10. For multiples of 2,\n",
        "print “Fizz” instead of the number and for the multiples of 5, print “Buzz”.\n",
        "For numbers which are multiples of both 2 and 5, print “FizzBuzz”.\n",
        "Sample input: numbers from 1 to 10 Sample output: 1 Fizz 3 Fizz Buzz\n",
        "Fizz 7 Fizz 9 FizzBuzz\n",
        "\n",
        "\n",
        "\n",
        "---\n",
        "\n"
      ],
      "metadata": {
        "id": "_ghhopPVHMd6"
      }
    },
    {
      "cell_type": "code",
      "source": [
        "for i in range(1,11,1):\n",
        "  if i%2==0 and i%5==0:\n",
        "    print(\"FizzBizz\")\n",
        "  elif i%5==0:\n",
        "    print(\"Bizz\")\n",
        "  elif i%2==0:\n",
        "    print(\"Fizz\")\n",
        "  else:\n",
        "    print(i)"
      ],
      "metadata": {
        "id": "6OxLcZOzHMv2",
        "colab": {
          "base_uri": "https://localhost:8080/"
        },
        "outputId": "d929dcc5-c7a5-442e-972c-1487a101dda6"
      },
      "execution_count": 8,
      "outputs": [
        {
          "output_type": "stream",
          "name": "stdout",
          "text": [
            "1\n",
            "Fizz\n",
            "3\n",
            "Fizz\n",
            "Bizz\n",
            "Fizz\n",
            "7\n",
            "Fizz\n",
            "9\n",
            "FizzBizz\n"
          ]
        }
      ]
    },
    {
      "cell_type": "markdown",
      "source": [
        "6. Write a Python program to find the most frequent item in a list of\n",
        "numbers. Sample input: 2, 3, 4, 2, 5, 2 Sample output: 2"
      ],
      "metadata": {
        "id": "SsoIAg1wHNDG"
      }
    },
    {
      "cell_type": "code",
      "source": [
        "L2=[2,3,4,2,5,2]\n",
        "\n",
        "max_count=0\n",
        "most_frequent=None\n",
        "\n",
        "for i in set(L2):\n",
        "  c=L2.count(i)\n",
        "\n",
        "  if c > max_count:\n",
        "    max_count = c\n",
        "    most_frequent = i\n",
        "\n",
        "print(\"Most frequent item:\", most_frequent)\n",
        "\n"
      ],
      "metadata": {
        "id": "K6C_d5DWHNVT",
        "colab": {
          "base_uri": "https://localhost:8080/"
        },
        "outputId": "f1fcba8e-3f15-4259-9209-8e100f96c36d"
      },
      "execution_count": 9,
      "outputs": [
        {
          "output_type": "stream",
          "name": "stdout",
          "text": [
            "Most frequent item: 2\n"
          ]
        }
      ]
    },
    {
      "cell_type": "markdown",
      "source": [
        "7. Write a Python program to find the sum of squares of the numbers in a\n",
        "list. Sample input: 2,1,3,1 Sample output: 15"
      ],
      "metadata": {
        "id": "j4GbFnHAHNol"
      }
    },
    {
      "cell_type": "code",
      "source": [
        "L3=[2,1,3,1]\n",
        "sum_of_sqrs=0\n",
        "\n",
        "for i in L3:\n",
        "  sum_of_sqrs += i**2\n",
        "print(sum_of_sqrs)"
      ],
      "metadata": {
        "id": "kwnHnknsHN6A",
        "colab": {
          "base_uri": "https://localhost:8080/"
        },
        "outputId": "7294db18-14f1-4318-8d05-5e999d08ae40"
      },
      "execution_count": 10,
      "outputs": [
        {
          "output_type": "stream",
          "name": "stdout",
          "text": [
            "15\n"
          ]
        }
      ]
    },
    {
      "cell_type": "markdown",
      "source": [
        "8. Write a Python program using for loop that will iterate from 1 to 15. For\n",
        "each iteration, check if the current number is odd or even, and display the\n",
        "message to the screen as odd or even. Sample input: 1….15 Sample\n",
        "output: 1-odd 2-even …. 15-odd\n",
        "\n",
        "\n",
        "\n",
        "---\n",
        "\n"
      ],
      "metadata": {
        "id": "iK_gxmaFHOMg"
      }
    },
    {
      "cell_type": "code",
      "source": [
        "for i in range(1,16,1):\n",
        "  if i%2==0:\n",
        "    print(i,\"-\",\"even\")\n",
        "  else:\n",
        "    print(i,\"-\",\"odd\")"
      ],
      "metadata": {
        "id": "BwTjCx-bHOgA",
        "colab": {
          "base_uri": "https://localhost:8080/"
        },
        "outputId": "68a0c09a-9859-47df-b442-5fbc18f81282"
      },
      "execution_count": 11,
      "outputs": [
        {
          "output_type": "stream",
          "name": "stdout",
          "text": [
            "1 - odd\n",
            "2 - even\n",
            "3 - odd\n",
            "4 - even\n",
            "5 - odd\n",
            "6 - even\n",
            "7 - odd\n",
            "8 - even\n",
            "9 - odd\n",
            "10 - even\n",
            "11 - odd\n",
            "12 - even\n",
            "13 - odd\n",
            "14 - even\n",
            "15 - odd\n"
          ]
        }
      ]
    },
    {
      "cell_type": "markdown",
      "source": [
        "9. Write a Python program to convert temperatures to and from Celsius\n",
        "Fahrenheit. [Formula: c/5=f-32/9 where c=temperature in Celsius and f=\n",
        "temperature in Fahrenheit.] Sample input: Temperature in Fahrenheit\n",
        "=41 Sample output: Temperature in Celsius =5\n",
        "\n",
        "\n",
        "\n",
        "---\n",
        "\n"
      ],
      "metadata": {
        "id": "RyhE-or6ILA8"
      }
    },
    {
      "cell_type": "code",
      "source": [
        "f=float(input(\"Temprature in Fahrenheit= \"))\n",
        "c=((f-32)/9)*5\n",
        "\n",
        "print(\"Temprature in Celsius=\",c)"
      ],
      "metadata": {
        "id": "z1pCsdG0IMfq",
        "colab": {
          "base_uri": "https://localhost:8080/"
        },
        "outputId": "865d6556-2c1d-4612-a8f6-dc1538833fb1"
      },
      "execution_count": 12,
      "outputs": [
        {
          "output_type": "stream",
          "name": "stdout",
          "text": [
            "Temprature in Fahrenheit= 41.0\n",
            "Temprature in Celsius= 5.0\n"
          ]
        }
      ]
    },
    {
      "cell_type": "markdown",
      "source": [
        "10. Write a Python function to calculate the factorial of a number (a\n",
        "nonnegative integer). The function accepts the number as an argument.\n",
        "Sample input: 3 Sample output:6"
      ],
      "metadata": {
        "id": "A0L_giI9INL4"
      }
    },
    {
      "cell_type": "code",
      "source": [
        "def factorial(n):\n",
        "  if n==0 or n==1:\n",
        "    return 1\n",
        "  else:\n",
        "    fact=1\n",
        "    for i in range(2,n+1):\n",
        "      fact *= i\n",
        "    return fact\n",
        "\n",
        "\n",
        "number=int(input(\"Enter a nonnegative integer: \"))\n",
        "\n",
        "print(factorial(number))"
      ],
      "metadata": {
        "colab": {
          "base_uri": "https://localhost:8080/"
        },
        "id": "FwjY_erWpo2l",
        "outputId": "ce0e09d6-089c-45ee-fa00-d13151e2a672"
      },
      "execution_count": 13,
      "outputs": [
        {
          "output_type": "stream",
          "name": "stdout",
          "text": [
            "Enter a nonnegative integer: 3\n",
            "6\n"
          ]
        }
      ]
    },
    {
      "cell_type": "code",
      "source": [
        "###   OR   ###\n",
        "\n",
        "import math\n",
        "i=int(input(\"Enter a nonnegative integer: \"))\n",
        "fact=math.factorial(i)\n",
        "\n",
        "print(fact)\n"
      ],
      "metadata": {
        "colab": {
          "base_uri": "https://localhost:8080/"
        },
        "id": "gix98K9coYTs",
        "outputId": "d7328e2a-77e2-48b0-b0f7-f0383b3f0c0f"
      },
      "execution_count": 14,
      "outputs": [
        {
          "output_type": "stream",
          "name": "stdout",
          "text": [
            "Enter a nonnegative integer: 4\n",
            "24\n"
          ]
        }
      ]
    }
  ]
}